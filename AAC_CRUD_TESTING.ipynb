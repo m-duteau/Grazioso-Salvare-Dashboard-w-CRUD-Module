{
 "cells": [
  {
   "cell_type": "code",
   "execution_count": 4,
   "id": "18ac73da",
   "metadata": {},
   "outputs": [],
   "source": [
    "import AAC_CRUD"
   ]
  },
  {
   "cell_type": "code",
   "execution_count": 6,
   "id": "150ad1c4",
   "metadata": {},
   "outputs": [],
   "source": [
    "%run AAC_CRUD"
   ]
  },
  {
   "cell_type": "code",
   "execution_count": 7,
   "id": "f60262d2",
   "metadata": {},
   "outputs": [],
   "source": [
    "animals = AnimalShelter()"
   ]
  },
  {
   "cell_type": "code",
   "execution_count": 8,
   "id": "5f59eb74",
   "metadata": {},
   "outputs": [
    {
     "name": "stdout",
     "output_type": "stream",
     "text": [
      "True\n"
     ]
    }
   ],
   "source": [
    "print(animals.create ({\n",
    "    'age_upon_outcome': \"6 years\",\n",
    "    'animal_id': \"test\",\n",
    "    'animal_type': \"Dog\",\n",
    "    'breed': \"Australian Cattle Dog\",\n",
    "    'color': \"Blue\",\n",
    "    'date_of_birth': \"2017-07-20\",\n",
    "    'datetime': \"2023-11-17 21:35:00\",\n",
    "    'monthyear': \"2023-11-17T21:35:00\",\n",
    "    'name': \"Chunk\",\n",
    "    'outcome_subtype': \"\",\n",
    "    'outcome_type': \"Adoption\",\n",
    "    'sex_upon_outcome': \"Neutered Male\",\n",
    "    'location_lat': 36.1627,\n",
    "    'location_long': -86.7816,\n",
    "    'age_upon_outcome_in_weeks': 338.857}))"
   ]
  },
  {
   "cell_type": "code",
   "execution_count": 13,
   "id": "2552ef7e",
   "metadata": {},
   "outputs": [
    {
     "ename": "Exception",
     "evalue": "Nothing to save, because data parameter is empty",
     "output_type": "error",
     "traceback": [
      "\u001b[0;31m---------------------------------------------------------------------------\u001b[0m",
      "\u001b[0;31mException\u001b[0m                                 Traceback (most recent call last)",
      "Input \u001b[0;32mIn [13]\u001b[0m, in \u001b[0;36m<cell line: 1>\u001b[0;34m()\u001b[0m\n\u001b[0;32m----> 1\u001b[0m \u001b[38;5;28mprint\u001b[39m(\u001b[43manimals\u001b[49m\u001b[38;5;241;43m.\u001b[39;49m\u001b[43mcreate\u001b[49m\u001b[43m(\u001b[49m\u001b[38;5;28;43;01mNone\u001b[39;49;00m\u001b[43m)\u001b[49m)\n",
      "File \u001b[0;32m~/Documents/AAC_CRUD.py:43\u001b[0m, in \u001b[0;36mAnimalShelter.create\u001b[0;34m(self, data)\u001b[0m\n\u001b[1;32m     41\u001b[0m         \u001b[38;5;28;01mreturn\u001b[39;00m \u001b[38;5;28;01mFalse\u001b[39;00m\n\u001b[1;32m     42\u001b[0m \u001b[38;5;28;01melse\u001b[39;00m:\n\u001b[0;32m---> 43\u001b[0m     \u001b[38;5;28;01mraise\u001b[39;00m \u001b[38;5;167;01mException\u001b[39;00m(\u001b[38;5;124m\"\u001b[39m\u001b[38;5;124mNothing to save, because data parameter is empty\u001b[39m\u001b[38;5;124m\"\u001b[39m)\n",
      "\u001b[0;31mException\u001b[0m: Nothing to save, because data parameter is empty"
     ]
    }
   ],
   "source": [
    "print(animals.create(None))"
   ]
  },
  {
   "cell_type": "code",
   "execution_count": 30,
   "id": "30101dc7",
   "metadata": {},
   "outputs": [
    {
     "name": "stdout",
     "output_type": "stream",
     "text": [
      "{'_id': ObjectId('655976b9569242e847f00ac3'), 'age_upon_outcome': '6 years', 'animal_id': 'test', 'animal_type': 'Dog', 'breed': 'Australian Cattle Dog', 'color': 'Blue', 'date_of_birth': '2017-07-20', 'datetime': '2023-11-17 21:35:00', 'monthyear': '2023-11-17T21:35:00', 'name': 'Chunk', 'outcome_subtype': '', 'outcome_type': 'Adoption', 'sex_upon_outcome': 'Neutered Male', 'location_lat': 36.1627, 'location_long': -86.7816, 'age_upon_outcome_in_weeks': 338.857}\n"
     ]
    }
   ],
   "source": [
    "cursor = animals.read({'name': \"Chunk\"})\n",
    "entries = cursor[:]\n",
    "for x in entries:\n",
    "    print(x)\n"
   ]
  },
  {
   "cell_type": "code",
   "execution_count": null,
   "id": "0b1e0507",
   "metadata": {},
   "outputs": [],
   "source": []
  }
 ],
 "metadata": {
  "kernelspec": {
   "display_name": "Python 3 (ipykernel)",
   "language": "python",
   "name": "python3"
  },
  "language_info": {
   "codemirror_mode": {
    "name": "ipython",
    "version": 3
   },
   "file_extension": ".py",
   "mimetype": "text/x-python",
   "name": "python",
   "nbconvert_exporter": "python",
   "pygments_lexer": "ipython3",
   "version": "3.9.12"
  }
 },
 "nbformat": 4,
 "nbformat_minor": 5
}
